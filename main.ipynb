{
 "cells": [
  {
   "cell_type": "markdown",
   "id": "5e7b634a",
   "metadata": {},
   "source": [
    " * opencv take input from webcam and give it to face_recognition\n"
   ]
  },
  {
   "cell_type": "code",
   "execution_count": 9,
   "id": "959a742d",
   "metadata": {},
   "outputs": [
    {
     "name": "stdout",
     "output_type": "stream",
     "text": [
      "^C\n"
     ]
    }
   ],
   "source": [
    "!pip install opencv-python\n",
    "!pip install numpy\n",
    "!pip install face_recognition"
   ]
  },
  {
   "cell_type": "code",
   "execution_count": 8,
   "id": "41b4a50b",
   "metadata": {},
   "outputs": [
    {
     "ename": "error",
     "evalue": "OpenCV(4.9.0) D:\\a\\opencv-python\\opencv-python\\opencv\\modules\\imgproc\\src\\resize.cpp:4152: error: (-215:Assertion failed) !ssize.empty() in function 'cv::resize'\n",
     "output_type": "error",
     "traceback": [
      "\u001b[1;31m---------------------------------------------------------------------------\u001b[0m",
      "\u001b[1;31merror\u001b[0m                                     Traceback (most recent call last)",
      "Cell \u001b[1;32mIn[8], line 40\u001b[0m\n\u001b[0;32m     38\u001b[0m ret, frame \u001b[38;5;241m=\u001b[39m video_capture\u001b[38;5;241m.\u001b[39mread()  \u001b[38;5;66;03m# Capture frame-by-frame\u001b[39;00m\n\u001b[0;32m     39\u001b[0m \u001b[38;5;66;03m# Proceed with face recognition and other operations\u001b[39;00m\n\u001b[1;32m---> 40\u001b[0m image \u001b[38;5;241m=\u001b[39m \u001b[43mcv2\u001b[49m\u001b[38;5;241;43m.\u001b[39;49m\u001b[43mresize\u001b[49m\u001b[43m(\u001b[49m\u001b[43mframe\u001b[49m\u001b[43m,\u001b[49m\u001b[43m \u001b[49m\u001b[43m(\u001b[49m\u001b[38;5;241;43m0\u001b[39;49m\u001b[43m,\u001b[49m\u001b[43m \u001b[49m\u001b[38;5;241;43m0\u001b[39;49m\u001b[43m)\u001b[49m\u001b[43m,\u001b[49m\u001b[43m \u001b[49m\u001b[38;5;28;43;01mNone\u001b[39;49;00m\u001b[43m,\u001b[49m\u001b[43m \u001b[49m\u001b[38;5;241;43m0.25\u001b[39;49m\u001b[43m,\u001b[49m\u001b[43m \u001b[49m\u001b[38;5;241;43m0.25\u001b[39;49m\u001b[43m)\u001b[49m\n\u001b[0;32m     41\u001b[0m rgb_small_frame \u001b[38;5;241m=\u001b[39m cv2\u001b[38;5;241m.\u001b[39mcvtColor(image, cv2\u001b[38;5;241m.\u001b[39mCOLOR_BGR2RGB)\n\u001b[0;32m     43\u001b[0m \u001b[38;5;28;01mif\u001b[39;00m s:\n",
      "\u001b[1;31merror\u001b[0m: OpenCV(4.9.0) D:\\a\\opencv-python\\opencv-python\\opencv\\modules\\imgproc\\src\\resize.cpp:4152: error: (-215:Assertion failed) !ssize.empty() in function 'cv::resize'\n"
     ]
    }
   ],
   "source": [
    "import csv\n",
    "import cv2\n",
    "import numpy as np\n",
    "import face_recognition\n",
    "from datetime import datetime\n",
    "\n",
    "video_capture = cv2.VideoCapture(0)\n",
    "\n",
    "Paurvi_image = face_recognition.load_image_file(\"assets/Paurvi.jpg\")\n",
    "Paurvi_encoding = face_recognition.face_encodings(Paurvi_image)[0]\n",
    "\n",
    "Aryan_image = face_recognition.load_image_file(\"assets/Aryan.jpg\")\n",
    "Aryan_encoding = face_recognition.face_encodings(Aryan_image)[0]\n",
    "\n",
    "Akshay_image = face_recognition.load_image_file(\"assets/Akshay.jpg\")\n",
    "Akshay_encoding = face_recognition.face_encodings(Akshay_image)[0]\n",
    "\n",
    "Monish_image = face_recognition.load_image_file(\"assets/Monish.jpg\")\n",
    "Monish_encoding = face_recognition.face_encodings(Monish_image)[0]\n",
    "\n",
    "Lalkrishna_image = face_recognition.load_image_file(\"assets/Lalkrishna.jpg\")\n",
    "Lalkrishna_encoding = face_recognition.face_encodings(Lalkrishna_image)[0]\n",
    "\n",
    "known_face_encodings = [Paurvi_encoding,Aryan_encoding, Akshay_encoding, Monish_encoding, Lalkrishna_encoding]\n",
    "known_face_names = [\"Paurvi\",\"Aryan\", \"Akshay\", \"Monish\", \"Lalkrishna\"]\n",
    "\n",
    "students = known_face_names.copy()\n",
    "\n",
    "now = datetime.now()\n",
    "current_date = now.strftime(\"%Y-%m-%d\")\n",
    "\n",
    "f = open(current_date + '.csv', 'w+', newline='')\n",
    "lnwriter = csv.writer(f)\n",
    "\n",
    "s = True\n",
    "\n",
    "while True:\n",
    "    ret, frame = video_capture.read()  # Capture frame-by-frame\n",
    "    # Proceed with face recognition and other operations\n",
    "    image = cv2.resize(frame, (0, 0), None, 0.25, 0.25)\n",
    "    rgb_small_frame = cv2.cvtColor(image, cv2.COLOR_BGR2RGB)\n",
    "\n",
    "    if s:\n",
    "        face_locations = face_recognition.face_locations(rgb_small_frame)\n",
    "        face_encodings = face_recognition.face_encodings(rgb_small_frame, face_locations)\n",
    "        face_names = []\n",
    "\n",
    "        for (top, right, bottom, left), face_encoding in zip(face_locations, face_encodings):\n",
    "            matches = face_recognition.compare_faces(known_face_encodings, face_encoding)\n",
    "            name = \"\"\n",
    "            face_distance = face_recognition.face_distance(known_face_encodings, face_encoding)\n",
    "            best_match_index = np.argmin(face_distance)\n",
    "            \n",
    "            if matches[best_match_index]:\n",
    "                name = known_face_names[best_match_index]\n",
    "                face_names.append(name)\n",
    "\n",
    "                if name in students:\n",
    "                    students.remove(name)\n",
    "                    print(students)\n",
    "                    current_time = datetime.now().strftime(\"%H:%M:%S:%f\")\n",
    "                    current_time = current_time[:-7]\n",
    "                    lnwriter.writerow([name, current_time])\n",
    "            \n",
    "            # Scale back up face locations since the frame we detected in was scaled to 1/4 size\n",
    "            top *= 4\n",
    "            right *= 4\n",
    "            bottom *= 4\n",
    "            left *= 4\n",
    "            \n",
    "            # Draw a box around the face\n",
    "            cv2.rectangle(frame, (left, top), (right, bottom), (0, 255, 0), 2)\n",
    "\n",
    "    cv2.imshow(\"Attendance System\", frame)\n",
    "    \n",
    "    if cv2.waitKey(1) & 0xFF == ord('q'):\n",
    "        break\n",
    "\n",
    "# Release resources\n",
    "video_capture.release()\n",
    "cv2.destroyAllWindows()\n",
    "f.close()"
   ]
  },
  {
   "cell_type": "code",
   "execution_count": null,
   "id": "3332b253",
   "metadata": {},
   "outputs": [],
   "source": []
  }
 ],
 "metadata": {
  "kernelspec": {
   "display_name": "Python 3 (ipykernel)",
   "language": "python",
   "name": "python3"
  },
  "language_info": {
   "codemirror_mode": {
    "name": "ipython",
    "version": 3
   },
   "file_extension": ".py",
   "mimetype": "text/x-python",
   "name": "python",
   "nbconvert_exporter": "python",
   "pygments_lexer": "ipython3",
   "version": "3.10.9"
  }
 },
 "nbformat": 4,
 "nbformat_minor": 5
}
